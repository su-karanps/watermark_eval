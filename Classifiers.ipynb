{
 "cells": [
  {
   "cell_type": "markdown",
   "id": "94bbf1bc-7373-480f-8cf5-e981503dd231",
   "metadata": {},
   "source": [
    "# LLM Watermark Judger"
   ]
  },
  {
   "cell_type": "markdown",
   "id": "13bf9eb3",
   "metadata": {},
   "source": [
    "## Setup\n",
    "\n",
    "Load necessary packages and initialize OpenAI API."
   ]
  },
  {
   "cell_type": "code",
   "execution_count": 1,
   "id": "1cd394d0",
   "metadata": {
    "tags": []
   },
   "outputs": [],
   "source": [
    "# ----- SYSTEM PACKAGES ----- ##\n",
    "import os\n",
    "import sys\n",
    "\n",
    "## ----- IMPORT FUNCTIONS ----- ##\n",
    "sys.path.insert(0, os.getcwd())\n",
    "from functions import *"
   ]
  },
  {
   "cell_type": "markdown",
   "id": "aa698589-4266-4ea0-9347-d36d73b6e2b3",
   "metadata": {},
   "source": [
    "## Get Text Embeddings\n",
    "\n",
    "Load sample pairs from a JSON file and get their embeddings from OpenAI's `ada-002` model, saving the results to the same data structure."
   ]
  },
  {
   "cell_type": "code",
   "execution_count": 3,
   "id": "541ca5f2-221b-446b-a1c7-17c39d9aac70",
   "metadata": {},
   "outputs": [],
   "source": [
    "data_list = load_from_json(filename=\"results.json\")\n",
    "\n",
    "for i in range(len(data_list)):\n",
    "\n",
    "    item = data_list[i]\n",
    "\n",
    "    # unpack needed fields\n",
    "    prompt = item[\"prompt\"]\n",
    "    uw_output = item[\"uw_output\"]\n",
    "    w_output = item[\"w_output\"]\n",
    "\n",
    "    # # get embedding for each output\n",
    "    uw_embedding = get_embedding(uw_output)\n",
    "    w_embedding = get_embedding(w_output)\n",
    "\n",
    "    # save embedding to dictionary\n",
    "    item[\"uw_embedding\"] = uw_embedding\n",
    "    item[\"w_embedding\"] = w_embedding\n",
    "    \n",
    "    print(i+1, \"out of\", len(data_list), \"items processed!\", end=\"\\r\")\n",
    "    \n",
    "save_to_json(data_list, filename=\"results_w_embeddings.json\")"
   ]
  },
  {
   "cell_type": "markdown",
   "id": "75ce611b-d8a9-4393-a9d8-66fdfdb3e299",
   "metadata": {},
   "source": [
    "## Evaluate Classifier Model"
   ]
  },
  {
   "cell_type": "code",
   "execution_count": 8,
   "id": "f9c18714-1af9-469d-b909-d30ced7aeadd",
   "metadata": {
    "tags": []
   },
   "outputs": [],
   "source": [
    "# load embeddings and labels\n",
    "all_embeddings, all_labels = load_embeddings_and_labels(\"results_w_embeddings.json\")\n",
    "\n",
    "# training with k-fold cross-validation\n",
    "kfold_classifier(all_embeddings, all_labels)"
   ]
  },
  {
   "cell_type": "markdown",
   "id": "925851b1-2112-471a-a50e-1502054babc4",
   "metadata": {},
   "source": [
    "## Evaluate Regression Model"
   ]
  },
  {
   "cell_type": "code",
   "execution_count": 3,
   "id": "9270486c-111c-4783-99e0-d3c76719947f",
   "metadata": {
    "tags": []
   },
   "outputs": [
    {
     "name": "stdout",
     "output_type": "stream",
     "text": [
      "Regression Accuracy Across All Folds: [0.66, 0.655, 0.605, 0.645, 0.67]\n",
      "Average Regression Accuracy Across All Folds = 0.6470\n",
      "Regression Standard Error Across All Folds = 0.0101\n"
     ]
    }
   ],
   "source": [
    "# load embeddings and labels\n",
    "all_embeddings, all_labels = load_embeddings_and_labels(\"results_w_embeddings.json\")\n",
    "\n",
    "# training with k-fold regression\n",
    "kfold_regression(all_embeddings, all_labels)"
   ]
  },
  {
   "cell_type": "code",
   "execution_count": null,
   "id": "91e47f61-43e5-4a33-a76a-482563e3978a",
   "metadata": {},
   "outputs": [],
   "source": []
  }
 ],
 "metadata": {
  "kernelspec": {
   "display_name": "Python 3 (ipykernel)",
   "language": "python",
   "name": "python3"
  },
  "language_info": {
   "codemirror_mode": {
    "name": "ipython",
    "version": 3
   },
   "file_extension": ".py",
   "mimetype": "text/x-python",
   "name": "python",
   "nbconvert_exporter": "python",
   "pygments_lexer": "ipython3",
   "version": "3.9.18"
  }
 },
 "nbformat": 4,
 "nbformat_minor": 5
}
